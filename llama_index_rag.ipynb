{
  "nbformat": 4,
  "nbformat_minor": 0,
  "metadata": {
    "colab": {
      "provenance": [],
      "authorship_tag": "ABX9TyNPn3EPpZ8KU5gBgpp7p5BS",
      "include_colab_link": true
    },
    "kernelspec": {
      "name": "python3",
      "display_name": "Python 3"
    },
    "language_info": {
      "name": "python"
    }
  },
  "cells": [
    {
      "cell_type": "markdown",
      "metadata": {
        "id": "view-in-github",
        "colab_type": "text"
      },
      "source": [
        "<a href=\"https://colab.research.google.com/github/0xZee/llama-index-rag/blob/main/llama_index_rag.ipynb\" target=\"_parent\"><img src=\"https://colab.research.google.com/assets/colab-badge.svg\" alt=\"Open In Colab\"/></a>"
      ]
    },
    {
      "cell_type": "markdown",
      "source": [
        "INSTALL & LIB\n",
        "---"
      ],
      "metadata": {
        "id": "98n2XZDVe9Ay"
      }
    },
    {
      "cell_type": "code",
      "source": [
        "!pip install -q llama-index llama-index-llms-groq llama-index-embeddings-huggingface\n",
        "!pip install -q llama-index-tools\n"
      ],
      "metadata": {
        "id": "tpnUxwY_fT1A"
      },
      "execution_count": null,
      "outputs": []
    },
    {
      "cell_type": "code",
      "execution_count": 2,
      "metadata": {
        "id": "TO0g0lm9e7tJ"
      },
      "outputs": [],
      "source": [
        "from google.colab import userdata\n",
        "from llama_index.core import VectorStoreIndex, SimpleDirectoryReader, Settings\n",
        "#from llama_index.experimental.query_engine import PandasQueryEngine\n",
        "\n",
        "from llama_index.llms.groq import Groq\n",
        "from llama_index.embeddings.huggingface import HuggingFaceEmbedding\n",
        "\n",
        "#from llama_index.llms.cohere import Cohere\n",
        "#from llama_index.embeddings.cohere import CohereEmbedding"
      ]
    },
    {
      "cell_type": "markdown",
      "source": [
        "LLM / EMBED SETTING\n",
        "---"
      ],
      "metadata": {
        "id": "LgJQHwnefFcW"
      }
    },
    {
      "cell_type": "code",
      "source": [
        "# Setting LLM\n",
        "GROQ_API_KEY = userdata.get('GROQ_API_KEY')\n",
        "model_llama = \"llama3-8b-8192\"\n",
        "model_gemma = \"gemma-7b-it\"\n",
        "model_mixtral = \"mixtral-8x7b-32768\"\n",
        "model_whistper = \"whisper-large-v3\"\n",
        "\n",
        "LLM_GROQ = Groq(model=model_llama, api_key=GROQ_API_KEY)\n",
        "Settings.llm = LLM_GROQ\n",
        "\n",
        "# Setting Embeddings\n",
        "#EMBED_CO = CohereEmbedding(cohere_api_key=COHERE_API, model_name=\"embed-english-v3.0\", input_type=\"search_query\",)\n",
        "EMBED_HF = HuggingFaceEmbedding(model_name=\"BAAI/bge-small-en-v1.5\")\n",
        "Settings.embed_model = EMBED_HF"
      ],
      "metadata": {
        "collapsed": true,
        "id": "ynXXgPCWfJbC"
      },
      "execution_count": null,
      "outputs": []
    },
    {
      "cell_type": "code",
      "source": [
        "embeddings = EMBED_HF.get_text_embedding(\"Hello world\")\n",
        "print (len(embeddings))\n",
        "print(embeddings[:5])"
      ],
      "metadata": {
        "colab": {
          "base_uri": "https://localhost:8080/"
        },
        "id": "85TsbtkMxCBV",
        "outputId": "b54f7c16-f8fa-41cb-f8f0-7427154c2c1a"
      },
      "execution_count": 4,
      "outputs": [
        {
          "output_type": "stream",
          "name": "stdout",
          "text": [
            "384\n",
            "[0.015196100808680058, -0.022570667788386345, 0.0085471011698246, -0.07417059689760208, 0.0038364154752343893]\n"
          ]
        }
      ]
    },
    {
      "cell_type": "markdown",
      "source": [
        "DATA and VECTORSTORE\n",
        "---"
      ],
      "metadata": {
        "id": "5wQOP1LqpdFe"
      }
    },
    {
      "cell_type": "code",
      "source": [
        "# Data Source : WEF_Global_Risks_Report_2024.pdf (World Economic Forum Global risks reports 2024)\n",
        "data = SimpleDirectoryReader(input_dir=\"./\").load_data()"
      ],
      "metadata": {
        "id": "TKEwWZappjow"
      },
      "execution_count": 5,
      "outputs": []
    },
    {
      "cell_type": "code",
      "source": [
        "index = VectorStoreIndex.from_documents(data)"
      ],
      "metadata": {
        "id": "-Cq9JT9twmqg"
      },
      "execution_count": 9,
      "outputs": []
    },
    {
      "cell_type": "markdown",
      "source": [
        "RAG\n",
        "---"
      ],
      "metadata": {
        "id": "Zx1ZdmGaxomB"
      }
    },
    {
      "cell_type": "code",
      "source": [
        "chat_engine = index.as_chat_engine(chat_mode=\"condense_question\", verbose=True)"
      ],
      "metadata": {
        "id": "66mb2L95xsnH"
      },
      "execution_count": 10,
      "outputs": []
    },
    {
      "cell_type": "code",
      "source": [
        "question = \"what the doc is about ?\"\n",
        "response = chat_engine.chat(question)\n"
      ],
      "metadata": {
        "colab": {
          "base_uri": "https://localhost:8080/"
        },
        "id": "SnMXBdYOxxIl",
        "outputId": "0dbf12cc-7a6f-4a5e-dd35-be454fe3dd50"
      },
      "execution_count": 12,
      "outputs": [
        {
          "output_type": "stream",
          "name": "stdout",
          "text": [
            "Querying with: what the doc is about ?\n"
          ]
        }
      ]
    },
    {
      "cell_type": "code",
      "source": [
        "print(response)"
      ],
      "metadata": {
        "colab": {
          "base_uri": "https://localhost:8080/"
        },
        "id": "GOavzE-Mx_-e",
        "outputId": "0517c7f0-b0eb-4063-a397-8687e3bdd591"
      },
      "execution_count": 13,
      "outputs": [
        {
          "output_type": "stream",
          "name": "stdout",
          "text": [
            "The document appears to be a report on global risks, covering various societal, technological, and economic threats and challenges facing the world.\n"
          ]
        }
      ]
    },
    {
      "cell_type": "code",
      "source": [
        "response = chat_engine.chat(\"can you tell me more ?\")"
      ],
      "metadata": {
        "colab": {
          "base_uri": "https://localhost:8080/"
        },
        "id": "gg1mdWT5yU_L",
        "outputId": "d41934c3-603f-483d-8d47-cd72a53ccb56"
      },
      "execution_count": 15,
      "outputs": [
        {
          "output_type": "stream",
          "name": "stdout",
          "text": [
            "Querying with: Here is a rewritten standalone question that captures all relevant context from the conversation:\n",
            "\n",
            "\"What are some specific societal, technological, and economic threats and challenges discussed in the report, and can you provide more information about each of them?\"\n"
          ]
        }
      ]
    },
    {
      "cell_type": "code",
      "source": [
        "print(response)"
      ],
      "metadata": {
        "colab": {
          "base_uri": "https://localhost:8080/"
        },
        "id": "tZjVTqluyfaI",
        "outputId": "592263df-ad65-407c-d6c7-1d0e5537190b"
      },
      "execution_count": 16,
      "outputs": [
        {
          "output_type": "stream",
          "name": "stdout",
          "text": [
            "The report highlights various societal, technological, and economic threats and challenges. Some specific examples include:\n",
            "\n",
            "* Societal threats:\n",
            "\t+ Erosion of social cohesion\n",
            "\t+ Involuntary migration\n",
            "\t+ Failure of climate-change adaptation\n",
            "\t+ Cybercrime and cyber insecurity\n",
            "\t+ Censorship\n",
            "* Technological threats:\n",
            "\t+ Adverse outcomes of artificial intelligence\n",
            "\t+ Existential threats to humanity from an \"arms race\" in experimental technologies\n",
            "* Economic threats:\n",
            "\t+ Economic downturn\n",
            "\t+ Public debt\n",
            "\t+ Inflation\n",
            "\t+ Labour shortage\n",
            "\t+ Household debt\n",
            "\t+ Failure of climate-change adaptation\n",
            "\t+ Energy supply shortage\n",
            "\t+ Pollution (air, water, soil)\n",
            "\t+ Water-supply shortage\n",
            "\t+ State fragility\n",
            "\t+ Inequality (wealth, income)\n",
            "\t+ Chronic diseases and health conditions\n",
            "\n",
            "These threats and challenges are interconnected and can have far-reaching consequences, making it essential to address them through global cooperation and collective action.\n"
          ]
        }
      ]
    },
    {
      "cell_type": "code",
      "source": [
        "response = chat_engine.chat(\"can you give me some data in this report in a table format?\")"
      ],
      "metadata": {
        "colab": {
          "base_uri": "https://localhost:8080/"
        },
        "id": "lCcI5WDpyoF-",
        "outputId": "c244200d-5b7d-49b2-c444-6e5980317702"
      },
      "execution_count": 17,
      "outputs": [
        {
          "output_type": "stream",
          "name": "stdout",
          "text": [
            "Querying with: Here is a rewritten version of the follow-up message as a standalone question that captures all relevant context from the conversation:\n",
            "\n",
            "\"Can you provide a table summarizing the data on global risks and threats mentioned in the report, including societal, technological, and economic threats, and their interconnected consequences?\"\n"
          ]
        }
      ]
    },
    {
      "cell_type": "code",
      "source": [
        "print(response)"
      ],
      "metadata": {
        "colab": {
          "base_uri": "https://localhost:8080/"
        },
        "id": "vfVthhGiyrwT",
        "outputId": "6f66585e-5266-484c-9729-caa2a9a2a46c"
      },
      "execution_count": 18,
      "outputs": [
        {
          "output_type": "stream",
          "name": "stdout",
          "text": [
            "Here is the table summarizing the data on global risks and threats mentioned in the report:\n",
            "\n",
            "| Country | 1st Risk | 2nd Risk | 3rd Risk | 4th Risk | 5th Risk |\n",
            "| --- | --- | --- | --- | --- | --- |\n",
            "| Spain | Economic downturn | Public debt | Erosion of social cohesion | Labour shortage | Inflation |\n",
            "| Sri Lanka | Economic downturn | Labour shortage | Energy supply shortage | Inflation | Public debt |\n",
            "| Sweden | Economic downturn | Energy supply shortage | Inflation | Involuntary migration | Failure of climate-change adaption |\n",
            "| Switzerland | Labour shortage | Energy supply shortage | Economic downturn | Cybercrime and cyber insecurity | Erosion of social cohesion |\n",
            "| Taiwan, China | Economic downturn | Energy supply shortage | Geoeconomic confrontation | Labour shortage | Inflation |\n",
            "| Thailand | Economic downturn | Pollution (air, water, soil) | Labour shortage | Household debt | Inequality (wealth, income) |\n",
            "| Tunisia | Economic downturn | Public debt | Water-supply shortage | State fragility | Inflation |\n",
            "| Türkiye | Economic downturn | Involuntary migration | Inequality (wealth, income) | Erosion of social cohesion | Censorship |\n",
            "| Ukraine | Interstate armed conflict | Involuntary migration | Use of biological, chemical or nuclear weapons | Public debt | Inflation |\n",
            "| United Arab Emirates | Economic downturn | Inflation | Adverse outcomes of artificial intelligence | Infectious diseases | Cybercrime and cyber insecurity |\n",
            "| United Kingdom | Economic downturn | Inflation | Energy supply shortage | Household debt | Labour shortage |\n",
            "| United Republic of Tanzania | Unemployment | Chronic diseases and health conditions | Failure of climate-change adaption | Inequality (wealth, income) | Cybercrime and cyber insecurity |\n",
            "| United States of America | Economic downturn | Infectious diseases | Inflation | Use of biological, chemical or nuclear weapons | Energy supply shortage |\n",
            "| Uruguay | Labour shortage | Economic downturn | Extreme weather events | Erosion of social cohesion | Inequality (wealth, income) |\n",
            "\n",
            "Note: The table only includes the top 5 risks mentioned for each country.\n"
          ]
        }
      ]
    },
    {
      "cell_type": "code",
      "source": [
        "response = chat_engine.chat(\"can you give me my last questions?\")\n",
        "print(response)"
      ],
      "metadata": {
        "colab": {
          "base_uri": "https://localhost:8080/"
        },
        "id": "pl1KAxUgzSNU",
        "outputId": "2e82ca2c-7715-453a-a64c-aedc9ec7c0ba"
      },
      "execution_count": 20,
      "outputs": [
        {
          "output_type": "stream",
          "name": "stderr",
          "text": [
            "WARNING:llama_index.llms.openai.utils:Retrying llama_index.llms.openai.base.OpenAI._chat in 0.3776882866864252 seconds as it raised InternalServerError: Error code: 503 - {'error': {'message': 'Service Unavailable', 'type': 'internal_server_error'}}.\n"
          ]
        },
        {
          "output_type": "stream",
          "name": "stdout",
          "text": [
            "Querying with: Here is the rewritten standalone question that captures all relevant context from the conversation:\n",
            "\n",
            "\"Can you provide the table summarizing the data on global risks and threats mentioned in the report, similar to the one you provided earlier?\"\n",
            "Unfortunately, the provided context does not contain a table summarizing the data on global risks and threats. However, it does contain information about the survey sample composition, risk governance, and risk outlook.\n"
          ]
        }
      ]
    },
    {
      "cell_type": "code",
      "source": [
        "# STREAMING\n",
        "\n",
        "response = chat_engine.stream_chat(\"can you summarize the doc for me in 6 bullets ?\")\n",
        "for token in response.response_gen:\n",
        "    print(token, end=\"\")"
      ],
      "metadata": {
        "colab": {
          "base_uri": "https://localhost:8080/"
        },
        "id": "Ckr9Jc-rzA0q",
        "outputId": "8ddf0cdc-e39d-4dfe-8553-f2c2de41bf1a"
      },
      "execution_count": 21,
      "outputs": [
        {
          "output_type": "stream",
          "name": "stdout",
          "text": [
            "Querying with: Here is a rewritten standalone question that captures all relevant context from the conversation:\n",
            "\n",
            "\"Can you summarize the report on global risks and threats in 6 bullets, highlighting the key societal, technological, and economic threats and challenges facing the world?\"\n",
            "Here are six bullets summarizing the report on global risks and threats:\n",
            "\n",
            "• The world is facing a duo of dangerous crises: climate change and conflict, which are contributing to an unstable global order characterized by polarizing narratives, eroding trust, and insecurity.\n",
            "\n",
            "• The report highlights the rise of global risks against the backdrop of \"structural forces\" such as geostrategic, demographic, and technological shifts, which are pushing the world to the limit and beyond.\n",
            "\n",
            "• The report explores the most severe perceived risks to economies and societies over two and 10 years, including the possibility of a 3°C world, the peak of human development, and an explosion of criminality and corruption.\n",
            "\n",
            "• The report also highlights the implications of a fragmented world, where preparedness for global risks is ever more critical but is hindered by lack of consensus and cooperation.\n",
            "\n",
            "• The report presents a conceptual framework for addressing global risks, identifying the scope for \"minimum viable effort\" for action, depending on the nature of the risk.\n",
            "\n",
            "• The report concludes by emphasizing the need for open and constructive dialogue among leaders of government, business, and civil society to take action to minimize global risks and build upon long-term opportunities and solutions."
          ]
        }
      ]
    },
    {
      "cell_type": "code",
      "source": [
        "# RESET CHAT SESSION\n",
        "chat_engine.reset()"
      ],
      "metadata": {
        "id": "BMzo7ae2y0gG"
      },
      "execution_count": null,
      "outputs": []
    }
  ]
}